{
 "cells": [
  {
   "cell_type": "markdown",
   "metadata": {},
   "source": [
    "# Lab 1 Evaluation"
   ]
  },
  {
   "cell_type": "markdown",
   "metadata": {},
   "source": [
    "Names, Surnames, and Group : (to complete by 2 students)"
   ]
  },
  {
   "cell_type": "markdown",
   "metadata": {},
   "source": [
    "ALAVERDOV Antoine & LEMEILLEUR Clémence 4 IR B1"
   ]
  },
  {
   "cell_type": "markdown",
   "metadata": {},
   "source": [
    "### In the following, we consider the  (binarized) Compas dataset that we studied in the Lab"
   ]
  },
  {
   "cell_type": "code",
   "execution_count": 1,
   "metadata": {},
   "outputs": [],
   "source": [
    "# We will need to use the following libraries:\n",
    "from sklearn.tree import DecisionTreeClassifier\n",
    "from sklearn.model_selection import train_test_split, cross_val_score\n",
    "from sklearn.metrics import confusion_matrix, accuracy_score, f1_score, recall_score, RocCurveDisplay\n",
    "\n",
    "#About visualization (the same as in the TP):\n",
    "import matplotlib.pyplot as plt\n",
    "import pandas as pd\n",
    "import csv\n",
    "import numpy as np\n",
    "\n",
    "from utils import load_from_csv"
   ]
  },
  {
   "cell_type": "markdown",
   "metadata": {},
   "source": [
    "### A decision tree configuration is a set of parameters that one can use to build decision trees. Propose 6 configurations that are likely to provide different topologies and caracteristics"
   ]
  },
  {
   "cell_type": "markdown",
   "metadata": {},
   "source": [
    "En réduisant max_depth, nous réduisons le risque d'overfitting. Nous pouvons également modifier min_samples_leaf (nombre minimum d'observations qu'un nœud terminal doit avoir). Nous pouvons aussi changer le critère (entropie ou gini) ou le type de splitter.\n",
    "\n",
    "Nous pouvons jouer sur plusieurs critères afin d'observer des résultats différents. C'est ce que nous avons essayé d'illuster à travers nos choix d'arbres: \n",
    "- Plus max_depth est petit, plus le risque d'overfitting sera bas. \n",
    "- La variale min_samples_leaf\n",
    "- Le type de splitter \n",
    "\n",
    "tree1 = DecisionTreeClassifier()\n",
    "\n",
    "tree2 = DecisionTreeClassifier(max_depth=1, min_samples_leaf=13, splitter=\"random\")\n",
    "\n",
    "tree3 = DecisionTreeClassifier(max_depth=1,  min_samples_leaf=5).\n",
    "\n",
    "tree4 = DecisionTreeClassifier(max_depth=4, min_samples_leaf=6, splitter=\"random\")\n",
    "\n",
    "tree5 = DecisionTreeClassifier(max_depth=5, min_samples_leaf=12)\n",
    "\n",
    "tree6 = DecisionTreeClassifier(min_samples_leaf=11, splitter=\"random\")\n"
   ]
  },
  {
   "cell_type": "markdown",
   "metadata": {},
   "source": [
    "### Train a decision tree for each of the previous configurations on the full dataset"
   ]
  },
  {
   "cell_type": "code",
   "execution_count": 2,
   "metadata": {},
   "outputs": [
    {
     "name": "stdout",
     "output_type": "stream",
     "text": [
      "cross val score pour tree  1 :  0.6466875904925493\n",
      "cross val score pour tree  2 :  0.6351228900060253\n",
      "cross val score pour tree  3 :  0.6351228900060253\n",
      "cross val score pour tree  4 :  0.6616721674145885\n",
      "cross val score pour tree  5 :  0.6590177792566345\n",
      "cross val score pour tree  6 :  0.6595841614432045\n",
      "\n",
      "f1 score pour tree  1 : 0.5660818713450292\n",
      "f1 score pour tree  2 : 0.48357424441524316\n",
      "f1 score pour tree  3 : 0.48357424441524316\n",
      "f1 score pour tree  4 : 0.5747938751472321\n",
      "f1 score pour tree  5 : 0.5977011494252873\n",
      "f1 score pour tree  6 : 0.593505039193729\n"
     ]
    }
   ],
   "source": [
    "# Récupération des Data comme en TP\n",
    "examples, labels, features, prediction = load_from_csv(\"./compass.csv\")\n",
    "x_train, x_test, y_train, y_test = train_test_split(examples, labels, test_size=0.2)\n",
    "\n",
    "\n",
    "tree1 = DecisionTreeClassifier().fit(x_train, y_train)\n",
    "\n",
    "tree2 = DecisionTreeClassifier(max_depth=1, min_samples_leaf=13, splitter=\"random\").fit(x_train, y_train)\n",
    "\n",
    "tree3 = DecisionTreeClassifier(max_depth=1,  min_samples_leaf=5).fit(x_train, y_train)\n",
    "\n",
    "tree4 = DecisionTreeClassifier(max_depth=4, min_samples_leaf=6, splitter=\"random\").fit(x_train, y_train)\n",
    "\n",
    "tree5 = DecisionTreeClassifier(max_depth=5, min_samples_leaf=12).fit(x_train, y_train)\n",
    "\n",
    "tree6 = DecisionTreeClassifier(min_samples_leaf=11, splitter=\"random\").fit(x_train, y_train)\n",
    "\n",
    "treeList = [tree1, tree2, tree3, tree4, tree5, tree6]\n",
    "\n",
    "\n",
    "nb=1\n",
    "for i in treeList:\n",
    "    score = cross_val_score(i, examples, labels, scoring='accuracy')\n",
    "    print(\"cross val score pour tree \", nb, \": \", score.mean())\n",
    "    nb=nb+1\n",
    "\n",
    "print(\"\")\n",
    "\n",
    "nb=1\n",
    "for i in treeList:\n",
    "    predicted_values = i.predict(x_test)\n",
    "    print(\"f1 score pour tree \", nb, \":\", f1_score(y_test, predicted_values))\n",
    "    nb=nb+1\n",
    "\n"
   ]
  },
  {
   "cell_type": "markdown",
   "metadata": {},
   "source": [
    "### Propose an evaluation in terms of training and testing accuracies using $5$-cross validation on two decision trees that have different typologies"
   ]
  },
  {
   "cell_type": "code",
   "execution_count": 4,
   "metadata": {},
   "outputs": [
    {
     "name": "stdout",
     "output_type": "stream",
     "text": [
      "Voici les résultats obtenus:\n",
      "\n",
      "training2:  0.6370314775148561\n",
      "training4:  0.6574241172072208\n",
      "\n",
      "test2:  0.6009478672985782\n",
      "test4:  0.6436018957345973\n"
     ]
    }
   ],
   "source": [
    "\n",
    "# Nous avons choisi les arbres 2 et 4 pour leur configurations différentes\n",
    "# Accuracy = nombre de prédictions justes/ nombre total des prédictions\n",
    "\n",
    "training2 = cross_val_score(tree2, x_train, y_train,  scoring='accuracy')\n",
    "training4 = cross_val_score(tree4, x_train, y_train,  scoring='accuracy')\n",
    "\n",
    "test2 = cross_val_score(tree2, x_test, y_test,  scoring='accuracy')\n",
    "test4 = cross_val_score(tree4, x_test, y_test,  scoring='accuracy')\n",
    "\n",
    "\n",
    "print('Voici les résultats obtenus:')\n",
    "\n",
    "print(\"\")\n",
    "\n",
    "print('training2: ', training2.mean())\n",
    "print('training4: ', training4.mean())\n",
    "\n",
    "print(\"\")\n",
    "\n",
    "print('test2: ', test2.mean())\n",
    "print('test4: ', test4.mean())\n"
   ]
  },
  {
   "cell_type": "markdown",
   "metadata": {},
   "source": [
    "### Propose an experimental study that shows the transition phase from underfitting to overfitting "
   ]
  },
  {
   "cell_type": "code",
   "execution_count": 5,
   "metadata": {},
   "outputs": [
    {
     "data": {
      "text/plain": [
       "<matplotlib.legend.Legend at 0x7f8557ed9220>"
      ]
     },
     "execution_count": 5,
     "metadata": {},
     "output_type": "execute_result"
    },
    {
     "data": {
      "image/png": "[encoded data removed]",
      "text/plain": [
       "<Figure size 432x288 with 1 Axes>"
      ]
     },
     "metadata": {
      "needs_background": "light"
     },
     "output_type": "display_data"
    }
   ],
   "source": [
    "# Si on ajuste trop le modèle on aura certe de bons résultats avec l'ensemble des données que nous avons mais il sera bien moins précis pour de nouvelles données\n",
    "# Si on ajuste pas assez le modèle on aura certe de bons résultats avec de nouvelles données mais il sera bien moins précis pour les données que nous avons.\n",
    "\n",
    "training_prediction = []\n",
    "test_prediction = []\n",
    "\n",
    "max_depth = 17\n",
    "\n",
    "for depth in range(1, max_depth):\n",
    "    clf = DecisionTreeClassifier(max_depth = depth).fit(x_train, y_train)\n",
    "    training_prediction += [accuracy_score(clf.predict(x_train), y_train)]\n",
    "    test_prediction += [accuracy_score(clf.predict(x_test), y_test)]\n",
    "\n",
    "#Affichage des résultats\n",
    "plt.plot(training_prediction, label='Training')\n",
    "plt.plot(test_prediction, label='Testing')\n",
    "plt.xlabel('Depth')\n",
    "plt.ylabel('Accuracy')\n",
    "plt.legend()"
   ]
  },
  {
   "cell_type": "markdown",
   "metadata": {},
   "source": [
    "### Construct the confusion matrix on a particular good configuration (after explaining your choice)"
   ]
  },
  {
   "cell_type": "code",
   "execution_count": 8,
   "metadata": {},
   "outputs": [
    {
     "name": "stdout",
     "output_type": "stream",
     "text": [
      "La matrice de confusion pour l'arbre 7 est :\n",
      "[[450 153]\n",
      " [208 244]]\n"
     ]
    }
   ],
   "source": [
    "#Pour cette partie nous avons choisi d'utiliser l'arbre 7 défini plus bas puisqu'il a un bon score de précision\n",
    "#Nous n'avons pas configuré le splitter à random puisque les résultats sans cette configuration semblent être meilleurs\n",
    "#Nous avons choisi de mettre min_samples_leaf à 1 également puisque nous obtenant le meilleur score et f pour cette valeur.\n",
    "#Pour max_depth nous avons choisi 4 puisque sur le graphe juste au dessus nous voyons que si nous depassons 4 la courbe de test s'éloigne considérablement de la courbe de training.\n",
    "\n",
    "#Nous étudierons donc la matrice de confusion pour cet arbre\n",
    "\n",
    "tree7 = DecisionTreeClassifier(min_samples_leaf=1,max_depth=4, splitter=\"random\").fit(x_train, y_train)\n",
    "predictions = tree7.predict(x_test)\n",
    "\n",
    "print(\"La matrice de confusion pour l'arbre 7 est :\")\n",
    "\n",
    "Matrix = confusion_matrix(y_test, predictions)\n",
    "print(Matrix)\n"
   ]
  },
  {
   "cell_type": "markdown",
   "metadata": {},
   "source": [
    "### Provide an evaluation of the fairness of the model based on the False Positive Rate"
   ]
  },
  {
   "cell_type": "code",
   "execution_count": 10,
   "metadata": {},
   "outputs": [
    {
     "name": "stdout",
     "output_type": "stream",
     "text": [
      "FP_rate : 0.2537313432835821\n"
     ]
    }
   ],
   "source": [
    "tn, fp, fn, tp = Matrix.ravel()\n",
    "fp_rate =  fp/(tn+fp)\n",
    "\n",
    "print('FP_rate :', fp_rate)\n",
    "\n",
    "# Cela signifie que dans 25% des cas l'algorithme va prédire qu'une personne va commettre un crime alors que ce ne sera pas le cas. \n",
    "#Cette valeur eest donc assez haute et reste à améliorer en entrainant d'avantage l'algo! "
   ]
  },
  {
   "cell_type": "code",
   "execution_count": null,
   "metadata": {},
   "outputs": [],
   "source": []
  }
 ],
 "metadata": {
  "kernelspec": {
   "display_name": "Python 3",
   "language": "python",
   "name": "python3"
  },
  "language_info": {
   "codemirror_mode": {
    "name": "ipython",
    "version": 3
   },
   "file_extension": ".py",
   "mimetype": "text/x-python",
   "name": "python",
   "nbconvert_exporter": "python",
   "pygments_lexer": "ipython3",
   "version": "3.8.3"
  }
 },
 "nbformat": 4,
 "nbformat_minor": 4
}
